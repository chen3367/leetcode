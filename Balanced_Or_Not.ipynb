{
 "cells": [
  {
   "cell_type": "markdown",
   "id": "c8f76c19",
   "metadata": {},
   "source": [
    "# Balanced Or Not\n",
    "***\n",
    "Consider a string consisting of the characters `'<'` and `'>'` only. The string is *balanced* if each `'<'` always appears before (i.e., to the left of) a corresponding `'>'` character (they do not need to be adjacent). Moreover, each `'<'` and `'>'` act as a unique pair of symbols and neither symbol can be considered as part of any other pair of symbols."
   ]
  },
  {
   "cell_type": "markdown",
   "id": "90e53a45",
   "metadata": {},
   "source": [
    "To balance a string, any `'>'` character can be replaced with `'<'`. Given an expression and a maximum number of replacements, determine whether the string can be balanced."
   ]
  },
  {
   "cell_type": "markdown",
   "id": "d6ea8d17",
   "metadata": {},
   "source": [
    "### Example\n",
    "expressions = `['<<>>', '<>', '<><>', '>>', '<<>', '><><']`<br>\n",
    "maxReplacements = `[0, 1, 2, 2, 2, 2]`"
   ]
  },
  {
   "cell_type": "markdown",
   "id": "b90b4dbc",
   "metadata": {},
   "source": [
    "Process a series of `expressions` and their corresponding `maxReplacements`. Each of the first three expressions is *balanced* already. The string `expressions[3] = '>>'` can be balanced in two moves by replacing each `'>'` with a `'<>'` to make `'<><>'`. Neither of the last two strings can ever be balanced."
   ]
  },
  {
   "cell_type": "markdown",
   "id": "7929a9fc",
   "metadata": {},
   "source": [
    "### Function Description\n",
    "Complete the function `balancedOrNot` in the editor below."
   ]
  },
  {
   "cell_type": "markdown",
   "id": "5321e74d",
   "metadata": {},
   "source": [
    "`balancedOrNot` has the following parameter(s):<br>\n",
    "$\\;\\;\\;\\;\\;\\;$ `string expressions[n]`: an array of strings to check<br>\n",
    "$\\;\\;\\;\\;\\;\\;$ `int maxReplacements[n]`: an array of integers representing the maximum number of replacements available for each `expressions[i]`"
   ]
  },
  {
   "cell_type": "markdown",
   "id": "11c53af4",
   "metadata": {},
   "source": [
    "Returns:<br>\n",
    "$\\;\\;\\;\\;\\;\\;$ `int[n]`: an array of integers where `element[i]` contains a `1` if `expressions[i]` is balanced or a `0` if it is not"
   ]
  },
  {
   "cell_type": "markdown",
   "id": "dc0265c4",
   "metadata": {},
   "source": [
    "### Constraints\n",
    "- `1 <= n <= 10^2`\n",
    "- `1 <= length of expressions[i] <= 10^5`\n",
    "- `0 <= maxReplacements[i] <= 10^5`"
   ]
  },
  {
   "cell_type": "markdown",
   "id": "04ebe2bb",
   "metadata": {},
   "source": [
    "### > Sample Case 0\n",
    "### Sample Input\n",
    "`expressions = ['<>>>', '<>>>>']`<br>\n",
    "`maxReplacements = [2, 2]`\n",
    "### Sample Output\n",
    "`[1, 0]`"
   ]
  },
  {
   "cell_type": "markdown",
   "id": "cbd624fb",
   "metadata": {},
   "source": [
    "### Explanation\n",
    "0. For the string `'<>>>'` with `maxReplacements[0] = 2`, it becomes balanced after two replacements: `'<>>>' → '<><>>' → '<><><>'`. The string was converted in `<= maxReplacements[0]` replacements. Store a `1` in index 0 of the return array.\n",
    "1. For the string `'<>>>>'` with `maxReplacements[1] = 2`, it becomes balanced after three replacements: `'<>>>>' → '<><>>>' → '<><><>>' → '<><><><>'`. There were not enough replacements available, so store a `0` in index `1` of the return array."
   ]
  },
  {
   "cell_type": "markdown",
   "id": "8bfb1b2e",
   "metadata": {},
   "source": [
    "Return the array `[1, 0]` as the answer."
   ]
  },
  {
   "cell_type": "markdown",
   "id": "391a744c",
   "metadata": {},
   "source": [
    "# Method 1: Replacing (All test cases passed)"
   ]
  },
  {
   "cell_type": "code",
   "execution_count": 1,
   "id": "2848f588",
   "metadata": {},
   "outputs": [],
   "source": [
    "def balancedOrNot1(expressions, maxReplacements):\n",
    "    ans = []\n",
    "    for e, m in zip(expressions, maxReplacements):\n",
    "        tmp = e.replace('<>', '')\n",
    "        while e != tmp:\n",
    "            e, tmp = tmp, tmp.replace('<>', '')\n",
    "        if '<' in e:\n",
    "            ans.append(0)\n",
    "        else:\n",
    "            ans.append(int(len(e) <= m))\n",
    "    return ans"
   ]
  },
  {
   "cell_type": "code",
   "execution_count": 2,
   "id": "de037c3c",
   "metadata": {},
   "outputs": [
    {
     "data": {
      "text/plain": [
       "[1, 0]"
      ]
     },
     "execution_count": 2,
     "metadata": {},
     "output_type": "execute_result"
    }
   ],
   "source": [
    "balancedOrNot1(['<>>>', '<>>>>'], [2, 2])"
   ]
  }
 ],
 "metadata": {
  "kernelspec": {
   "display_name": "Python 3 (ipykernel)",
   "language": "python",
   "name": "python3"
  },
  "language_info": {
   "codemirror_mode": {
    "name": "ipython",
    "version": 3
   },
   "file_extension": ".py",
   "mimetype": "text/x-python",
   "name": "python",
   "nbconvert_exporter": "python",
   "pygments_lexer": "ipython3",
   "version": "3.9.13"
  }
 },
 "nbformat": 4,
 "nbformat_minor": 5
}
